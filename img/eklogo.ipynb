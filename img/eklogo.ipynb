{
 "cells": [
  {
   "cell_type": "code",
   "execution_count": 2,
   "id": "95761791-21b5-4367-80d2-3f070e0cdda7",
   "metadata": {},
   "outputs": [],
   "source": [
    "import matplotlib.pyplot as plt\n",
    "import numpy as np\n",
    "from scipy.stats import laplace"
   ]
  },
  {
   "cell_type": "code",
   "execution_count": 5,
   "id": "50220d20-b667-4bca-8120-db0887819485",
   "metadata": {},
   "outputs": [],
   "source": [
    "def get_E_data():\n",
    "    return [10, 1.5, 1, 8, 1.2, 0.9, 9.2]\n",
    "\n",
    "def get_K_data():\n",
    "    rv = laplace(loc=0, scale=2)\n",
    "    x_K = np.linspace(\n",
    "        rv.ppf(0.01), rv.ppf(0.99), 100\n",
    "    )\n",
    "    y_K = rv.pdf(x_K)\n",
    "    y_K = max(y_K) - y_K\n",
    "    return x_K, y_K\n",
    "\n",
    "def plot_E(ax, color):\n",
    "    E_data = get_E_data()\n",
    "    ax.barh(\n",
    "        range(len(E_data)), E_data,\n",
    "        color=color,\n",
    "        height=0.93, align='edge',\n",
    "    )\n",
    "    ax.set_ylim(-0.1, len(E_data) + 0.1)\n",
    "    ax.set_ylim(0, len(E_data))\n",
    "    ax.invert_yaxis()  # Reorder top-to-bottom\n",
    "    return ax\n",
    "\n",
    "def plot_K(ax, color):\n",
    "    x_K, y_K = get_K_data()\n",
    "    ax.plot(\n",
    "        y_K, x_K,\n",
    "        color=color,\n",
    "        lw=10,\n",
    "    )\n",
    "    ax.set_xlim(0, None)\n",
    "    ax.set_ylim(x_K.min(), x_K.max())\n",
    "    return ax\n",
    "\n",
    "def remove_frame(ax):\n",
    "    ax.spines['top'].set_visible(False)\n",
    "    ax.spines['right'].set_visible(False)\n",
    "    ax.spines['bottom'].set_visible(False)\n",
    "    # ax.spines['left'].set_visible(False)\n",
    "    ax.spines['left'].set_linewidth(3)\n",
    "    # ax.tick_params(\n",
    "    #     axis=\"both\", which=\"both\", \n",
    "    #     bottom=False, left=False,\n",
    "    # )\n",
    "    ax.axes.get_xaxis().set_visible(False)\n",
    "    ax.axes.get_yaxis().set_visible(False)\n",
    "    return ax\n",
    "\n",
    "def plot_logo(text_color):\n",
    "    fig, (eax, kax) = plt.subplots(1, 2);\n",
    "    plot_E(eax, text_color)\n",
    "    plot_K(kax, text_color)\n",
    "    remove_frame(eax)\n",
    "    remove_frame(kax)\n",
    "    fig.subplots_adjust(wspace=0)\n",
    "    return fig"
   ]
  },
  {
   "cell_type": "code",
   "execution_count": 6,
   "id": "0b4a3790",
   "metadata": {},
   "outputs": [
    {
     "data": {
      "image/png": "[encoded data removed]",
      "text/plain": [
       "<Figure size 432x288 with 2 Axes>"
      ]
     },
     "metadata": {
      "needs_background": "light"
     },
     "output_type": "display_data"
    }
   ],
   "source": [
    "text_color = \"#c25555\"\n",
    "plot_logo(text_color);"
   ]
  },
  {
   "cell_type": "code",
   "execution_count": 7,
   "id": "b66fdbcd",
   "metadata": {},
   "outputs": [
    {
     "data": {
      "image/png": "[encoded data removed]",
      "text/plain": [
       "<Figure size 432x288 with 2 Axes>"
      ]
     },
     "metadata": {
      "needs_background": "light"
     },
     "output_type": "display_data"
    }
   ],
   "source": [
    "plot_logo(\"C0\");"
   ]
  },
  {
   "cell_type": "code",
   "execution_count": null,
   "id": "d997ddb1",
   "metadata": {},
   "outputs": [],
   "source": []
  }
 ],
 "metadata": {
  "kernelspec": {
   "display_name": "Python 3 (ipykernel)",
   "language": "python",
   "name": "python3"
  },
  "language_info": {
   "codemirror_mode": {
    "name": "ipython",
    "version": 3
   },
   "file_extension": ".py",
   "mimetype": "text/x-python",
   "name": "python",
   "nbconvert_exporter": "python",
   "pygments_lexer": "ipython3",
   "version": "3.8.12"
  }
 },
 "nbformat": 4,
 "nbformat_minor": 5
}
