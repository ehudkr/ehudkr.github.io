{
 "cells": [
  {
   "cell_type": "code",
   "execution_count": 1,
   "id": "95761791-21b5-4367-80d2-3f070e0cdda7",
   "metadata": {},
   "outputs": [],
   "source": [
    "import matplotlib.pyplot as plt\n",
    "from matplotlib.patches import FancyBboxPatch\n",
    "import numpy as np\n",
    "from scipy.stats import laplace"
   ]
  },
  {
   "cell_type": "code",
   "execution_count": 2,
   "id": "f72a5619-82e9-453a-85f0-f4d698695866",
   "metadata": {},
   "outputs": [
    {
     "data": {
      "image/png": "[encoded data removed]",
      "text/plain": [
       "<Figure size 432x288 with 2 Axes>"
      ]
     },
     "metadata": {
      "needs_background": "light"
     },
     "output_type": "display_data"
    }
   ],
   "source": [
    "fig, (eax, kax) = plt.subplots(1, 2)"
   ]
  },
  {
   "cell_type": "code",
   "execution_count": 3,
   "id": "478f3d75-37f8-481f-ad25-a10900f3c08d",
   "metadata": {},
   "outputs": [],
   "source": [
    "# text_color = \"C0\"\n",
    "text_color = \"#c25555\""
   ]
  },
  {
   "cell_type": "code",
   "execution_count": 4,
   "id": "4f138c59-6e7d-4a17-b0b7-dbe04edcb195",
   "metadata": {},
   "outputs": [],
   "source": [
    "E_data = [10, 1.5, 1, 8, 1.2, 0.9, 9.2]"
   ]
  },
  {
   "cell_type": "code",
   "execution_count": 5,
   "id": "10b0ed3f-044e-4f48-8421-6bb96e1e1f2c",
   "metadata": {},
   "outputs": [
    {
     "data": {
      "image/png": "[encoded data removed]",
      "text/plain": [
       "<Figure size 432x288 with 2 Axes>"
      ]
     },
     "execution_count": 5,
     "metadata": {},
     "output_type": "execute_result"
    }
   ],
   "source": [
    "eax.barh(\n",
    "    range(len(E_data)), E_data,\n",
    "    color=text_color,\n",
    "    height=0.93, align='edge',\n",
    ")\n",
    "eax.invert_yaxis()  # Reorder top-to-bottom\n",
    "fig"
   ]
  },
  {
   "cell_type": "code",
   "execution_count": 6,
   "id": "399062bb-8b8c-4951-987d-0954b0f59efd",
   "metadata": {},
   "outputs": [],
   "source": [
    "# new_patches = []\n",
    "# for patch in reversed(eax.patches):\n",
    "#     # print(bb.xmin, bb.ymin,abs(bb.width), abs(bb.height))\n",
    "#     bb = patch.get_bbox()\n",
    "#     color = patch.get_facecolor()\n",
    "#     p_bbox = FancyBboxPatch(\n",
    "#         (bb.xmin, bb.ymin),\n",
    "#         abs(bb.width), abs(bb.height),\n",
    "#         boxstyle=\"round,pad=-0.0040,rounding_size=1\",\n",
    "#         ec=\"none\", fc=color,\n",
    "#         mutation_aspect=0.2\n",
    "#     )\n",
    "#     patch.remove()\n",
    "#     new_patches.append(p_bbox)\n",
    "\n",
    "# for patch in new_patches:\n",
    "#     eax.add_patch(patch)\n",
    "\n",
    "# fig"
   ]
  },
  {
   "cell_type": "code",
   "execution_count": 7,
   "id": "93463798-f899-4d9b-b701-aade015b5f17",
   "metadata": {},
   "outputs": [],
   "source": [
    "# rv = laplace(loc=0, scale=1)\n",
    "rv = laplace(loc=0, scale=2)"
   ]
  },
  {
   "cell_type": "code",
   "execution_count": 8,
   "id": "df492d4b-e449-46fe-8f52-c973932eab03",
   "metadata": {},
   "outputs": [],
   "source": [
    "x_K = np.linspace(\n",
    "    rv.ppf(0.01), rv.ppf(0.99), 100\n",
    ")\n",
    "y_K = rv.pdf(x_K)\n",
    "y_K = max(y_K) - y_K"
   ]
  },
  {
   "cell_type": "code",
   "execution_count": 9,
   "id": "b3eb1b87-4829-45e0-b5c9-71fe3f745bba",
   "metadata": {},
   "outputs": [
    {
     "data": {
      "text/plain": [
       "[<matplotlib.lines.Line2D at 0x263da5d0d60>]"
      ]
     },
     "execution_count": 9,
     "metadata": {},
     "output_type": "execute_result"
    }
   ],
   "source": [
    "kax.plot(\n",
    "    y_K, x_K,\n",
    "    color=text_color,\n",
    "    lw=10,\n",
    ")"
   ]
  },
  {
   "cell_type": "code",
   "execution_count": 10,
   "id": "8e2d0528-38e1-4663-8159-34cfc80f62bd",
   "metadata": {},
   "outputs": [
    {
     "data": {
      "image/png": "[encoded data removed]",
      "text/plain": [
       "<Figure size 432x288 with 2 Axes>"
      ]
     },
     "execution_count": 10,
     "metadata": {},
     "output_type": "execute_result"
    }
   ],
   "source": [
    "fig"
   ]
  },
  {
   "cell_type": "markdown",
   "id": "408d6646-fd04-4b81-8a1d-98d4e5286543",
   "metadata": {},
   "source": [
    "TODO: organize into functions"
   ]
  },
  {
   "cell_type": "code",
   "execution_count": 11,
   "id": "038d8d3b-4317-4763-8283-faf1c7b64a82",
   "metadata": {},
   "outputs": [
    {
     "data": {
      "text/plain": [
       "(0.0, 7.0)"
      ]
     },
     "execution_count": 11,
     "metadata": {},
     "output_type": "execute_result"
    }
   ],
   "source": [
    "kax.set_xlim(0, None)\n",
    "kax.set_ylim(x_K.min(), x_K.max())\n",
    "eax.set_ylim(-0.1, len(E_data) + 0.1)\n",
    "eax.set_ylim(0, len(E_data))"
   ]
  },
  {
   "cell_type": "code",
   "execution_count": 12,
   "id": "a357b6d4-f482-443d-a946-4eebef8efa92",
   "metadata": {},
   "outputs": [],
   "source": [
    "for ax in [eax, kax]:\n",
    "    ax.spines['top'].set_visible(False)\n",
    "    ax.spines['right'].set_visible(False)\n",
    "    ax.spines['bottom'].set_visible(False)\n",
    "    # ax.spines['left'].set_visible(False)\n",
    "    ax.spines['left'].set_linewidth(3)\n",
    "    # ax.tick_params(\n",
    "    #     axis=\"both\", which=\"both\", \n",
    "    #     bottom=False, left=False,\n",
    "    # )\n",
    "    ax.axes.get_xaxis().set_visible(False)\n",
    "    ax.axes.get_yaxis().set_visible(False)\n",
    "fig.subplots_adjust(wspace=0)"
   ]
  },
  {
   "cell_type": "code",
   "execution_count": 13,
   "id": "9051b0b6-c825-49dc-9e34-4405307d84ba",
   "metadata": {},
   "outputs": [],
   "source": [
    "eax.invert_yaxis()"
   ]
  },
  {
   "cell_type": "code",
   "execution_count": 14,
   "id": "bbcc3a93-07b2-47ba-999d-fdad02a822f9",
   "metadata": {},
   "outputs": [],
   "source": [
    "# background_color = \"#fcebfc\"\n",
    "# fig.set_facecolor(background_color)\n",
    "# eax.set_facecolor(background_color)\n",
    "# kax.set_facecolor(background_color)"
   ]
  },
  {
   "cell_type": "code",
   "execution_count": 15,
   "id": "edff8fc1-d498-4c14-ac41-d15e6020a466",
   "metadata": {},
   "outputs": [
    {
     "data": {
      "image/png": "[encoded data removed]",
      "text/plain": [
       "<Figure size 432x288 with 2 Axes>"
      ]
     },
     "execution_count": 15,
     "metadata": {},
     "output_type": "execute_result"
    }
   ],
   "source": [
    "fig"
   ]
  },
  {
   "cell_type": "code",
   "execution_count": null,
   "id": "50220d20-b667-4bca-8120-db0887819485",
   "metadata": {},
   "outputs": [],
   "source": []
  }
 ],
 "metadata": {
  "kernelspec": {
   "display_name": "Python 3 (ipykernel)",
   "language": "python",
   "name": "python3"
  },
  "language_info": {
   "codemirror_mode": {
    "name": "ipython",
    "version": 3
   },
   "file_extension": ".py",
   "mimetype": "text/x-python",
   "name": "python",
   "nbconvert_exporter": "python",
   "pygments_lexer": "ipython3",
   "version": "3.8.12"
  }
 },
 "nbformat": 4,
 "nbformat_minor": 5
}
